{
    "nbformat_minor": 1, 
    "cells": [
        {
            "source": "# Best choice for a Hotel in Rome", 
            "cell_type": "markdown", 
            "metadata": {
                "collapsed": true
            }
        }, 
        {
            "source": "### 1. Introduction", 
            "cell_type": "markdown", 
            "metadata": {}
        }, 
        {
            "source": "Someone travel to work, do tourismous or visit another person. One of the most important decision is to choose the place where he/she will stay. If is a business travel maybe the best choice is a place near to work and some specific venues, if is to do tourismous maybe the best choice is a place near to tour agencies or restaurants. In this case I will focus in hotels in Rome.", 
            "cell_type": "markdown", 
            "metadata": {}
        }, 
        {
            "source": "### 2. Business Problem", 
            "cell_type": "markdown", 
            "metadata": {}
        }, 
        {
            "source": "Let assume that you work in a travel agency and one day a client come to your services, because he want travel to Rome to do tourismous and need information about hotels near to restaurants, tourist agency and more places to enjoy his journey. which are the best 5 hotels in Rome that you could recommend to your client according his specifications?", 
            "cell_type": "markdown", 
            "metadata": {}
        }, 
        {
            "source": "### 3. Data", 
            "cell_type": "markdown", 
            "metadata": {}
        }, 
        {
            "source": "Basic information of the majority hotels in rome,which can be get from open data website of Tour Pedia (http://tour-pedia.org/download/rome-accommodation.csv). Number of existing facilities and their type and location in every neighborhood will be obtained using Foursquare API.", 
            "cell_type": "markdown", 
            "metadata": {}
        }
    ], 
    "metadata": {
        "kernelspec": {
            "display_name": "Python 3.5", 
            "name": "python3", 
            "language": "python"
        }, 
        "language_info": {
            "mimetype": "text/x-python", 
            "nbconvert_exporter": "python", 
            "version": "3.5.5", 
            "name": "python", 
            "file_extension": ".py", 
            "pygments_lexer": "ipython3", 
            "codemirror_mode": {
                "version": 3, 
                "name": "ipython"
            }
        }
    }, 
    "nbformat": 4
}